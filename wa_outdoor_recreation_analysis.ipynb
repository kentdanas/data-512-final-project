{
 "cells": [
  {
   "cell_type": "markdown",
   "metadata": {},
   "source": [
    "# A Diversity Analysis of Participation in Outdoor Recreation in Washington\n",
    "\n",
    "### Final Project for HCDS 512, Autumn 2018\n",
    "\n",
    "The purpose of this notebook is to complete a statistical analysis and visualization of the racial and gender diversity of participants in certain outdoor recreational activities in Washington State. This work was originally completed for the University of Washington's DATA 512 course on Human Centered Data Science in Autumn 2018. \n",
    "\n",
    "The notebook is divided into the following sections:\n",
    "\n",
    " - Methods\n",
    "     - Data Acquisition\n",
    "     - Data Processing\n",
    "     - Statistical Analysis\n",
    "     - Data Visualization\n",
    "\n",
    "All sections are thoroughly documented so as to support reproducibility of this analysis."
   ]
  },
  {
   "cell_type": "code",
   "execution_count": 6,
   "metadata": {},
   "outputs": [],
   "source": [
    "# import necessary packages and notebook setup\n",
    "import matplotlib.pyplot as plt\n",
    "import numpy as np\n",
    "import pandas as pd\n",
    "from sodapy import Socrata"
   ]
  },
  {
   "cell_type": "markdown",
   "metadata": {},
   "source": [
    "#### Data Acquisition"
   ]
  },
  {
   "cell_type": "markdown",
   "metadata": {},
   "source": [
    "code from this link: https://dev.socrata.com/foundry/data.wa.gov/amq9-iaai"
   ]
  },
  {
   "cell_type": "code",
   "execution_count": 23,
   "metadata": {},
   "outputs": [],
   "source": [
    "# Define endpoints for each of the 7 parts of the dataset\n",
    "endpoints = ['amq9-iaai', 'ek6m-rgb7', '8zc8-9ad4', 'v2c2-rkrp', 'hzyw-na2k', 'uwas-gd9z', 'q62a-ce6s']\n",
    "\n",
    "# Define app token for API requests\n",
    "app_token = 'OnW02vywUSKEfNP2DEYO7OMM5'\n",
    "\n",
    "\n",
    "#Create dictionary to save dataframes\n",
    "parts = {}\n",
    "\n",
    "# Make API call for each endpoint and save file\n",
    "for endpoint in endpoints:\n",
    "    file_name = 'data_raw/scorp_' + endpoint + '.csv'\n",
    "    client = Socrata(\"data.wa.gov\", app_token)\n",
    "    results = client.get(endpoint, limit=3200)\n",
    "    results_df = pd.DataFrame.from_records(results)\n",
    "    results_df.to_csv(file_name)\n",
    "    parts[endpoint] = results_df"
   ]
  },
  {
   "cell_type": "markdown",
   "metadata": {},
   "source": [
    "#### Data Processing"
   ]
  },
  {
   "cell_type": "code",
   "execution_count": 39,
   "metadata": {},
   "outputs": [],
   "source": [
    "#Merge all dataframes from the data dictionary\n",
    "keys = list(parts.keys())\n",
    "combined_data = parts[keys[0]]\n",
    "\n",
    "for i in range(1, len(keys)):\n",
    "    combined_data = combined_data.merge(parts[keys[i]], how = 'inner', on = ['idnumber'])"
   ]
  },
  {
   "cell_type": "code",
   "execution_count": 40,
   "metadata": {},
   "outputs": [
    {
     "data": {
      "text/plain": [
       "(3114, 1575)"
      ]
     },
     "execution_count": 40,
     "metadata": {},
     "output_type": "execute_result"
    }
   ],
   "source": [
    "# Check shape of resulting dataframe\n",
    "combined_data.shape"
   ]
  },
  {
   "cell_type": "code",
   "execution_count": 41,
   "metadata": {},
   "outputs": [
    {
     "data": {
      "text/html": [
       "<div>\n",
       "<style scoped>\n",
       "    .dataframe tbody tr th:only-of-type {\n",
       "        vertical-align: middle;\n",
       "    }\n",
       "\n",
       "    .dataframe tbody tr th {\n",
       "        vertical-align: top;\n",
       "    }\n",
       "\n",
       "    .dataframe thead th {\n",
       "        text-align: right;\n",
       "    }\n",
       "</style>\n",
       "<table border=\"1\" class=\"dataframe\">\n",
       "  <thead>\n",
       "    <tr style=\"text-align: right;\">\n",
       "      <th></th>\n",
       "      <th>act1</th>\n",
       "      <th>act101</th>\n",
       "      <th>act102</th>\n",
       "      <th>act103</th>\n",
       "      <th>act104</th>\n",
       "      <th>act105</th>\n",
       "      <th>act106</th>\n",
       "      <th>act107</th>\n",
       "      <th>act108</th>\n",
       "      <th>act109</th>\n",
       "      <th>...</th>\n",
       "      <th>tab245a</th>\n",
       "      <th>tab285a</th>\n",
       "      <th>tenn2x</th>\n",
       "      <th>voll3x</th>\n",
       "      <th>walk8x</th>\n",
       "      <th>wghts2x</th>\n",
       "      <th>wski2x</th>\n",
       "      <th>wsrf2x</th>\n",
       "      <th>xski2x</th>\n",
       "      <th>xski6x</th>\n",
       "    </tr>\n",
       "  </thead>\n",
       "  <tbody>\n",
       "    <tr>\n",
       "      <th>0</th>\n",
       "      <td>1111000000100000</td>\n",
       "      <td>Not checked</td>\n",
       "      <td>Not checked</td>\n",
       "      <td>Checked</td>\n",
       "      <td>Checked</td>\n",
       "      <td>Checked</td>\n",
       "      <td>Checked</td>\n",
       "      <td>Not checked</td>\n",
       "      <td>Not checked</td>\n",
       "      <td>Not checked</td>\n",
       "      <td>...</td>\n",
       "      <td>No</td>\n",
       "      <td>No</td>\n",
       "      <td>14.00</td>\n",
       "      <td>0.00</td>\n",
       "      <td>0.00</td>\n",
       "      <td>60.00</td>\n",
       "      <td>0.00</td>\n",
       "      <td>0.00</td>\n",
       "      <td>0.00</td>\n",
       "      <td>0.00</td>\n",
       "    </tr>\n",
       "    <tr>\n",
       "      <th>1</th>\n",
       "      <td>10</td>\n",
       "      <td>Not checked</td>\n",
       "      <td>Not checked</td>\n",
       "      <td>Not checked</td>\n",
       "      <td>Not checked</td>\n",
       "      <td>Not checked</td>\n",
       "      <td>Not checked</td>\n",
       "      <td>Not checked</td>\n",
       "      <td>Not checked</td>\n",
       "      <td>Not checked</td>\n",
       "      <td>...</td>\n",
       "      <td>No</td>\n",
       "      <td>No</td>\n",
       "      <td>0.00</td>\n",
       "      <td>0.00</td>\n",
       "      <td>365.00</td>\n",
       "      <td>0.00</td>\n",
       "      <td>0.00</td>\n",
       "      <td>0.00</td>\n",
       "      <td>0.00</td>\n",
       "      <td>0.00</td>\n",
       "    </tr>\n",
       "    <tr>\n",
       "      <th>2</th>\n",
       "      <td>1100000000000000</td>\n",
       "      <td>Not checked</td>\n",
       "      <td>Not checked</td>\n",
       "      <td>Checked</td>\n",
       "      <td>Checked</td>\n",
       "      <td>Not checked</td>\n",
       "      <td>Not checked</td>\n",
       "      <td>Not checked</td>\n",
       "      <td>Not checked</td>\n",
       "      <td>Not checked</td>\n",
       "      <td>...</td>\n",
       "      <td>No</td>\n",
       "      <td>No</td>\n",
       "      <td>0.00</td>\n",
       "      <td>0.00</td>\n",
       "      <td>100.00</td>\n",
       "      <td>50.00</td>\n",
       "      <td>0.00</td>\n",
       "      <td>0.00</td>\n",
       "      <td>0.00</td>\n",
       "      <td>0.00</td>\n",
       "    </tr>\n",
       "    <tr>\n",
       "      <th>3</th>\n",
       "      <td>100001101111001000</td>\n",
       "      <td>Checked</td>\n",
       "      <td>Not checked</td>\n",
       "      <td>Not checked</td>\n",
       "      <td>Not checked</td>\n",
       "      <td>Not checked</td>\n",
       "      <td>Checked</td>\n",
       "      <td>Checked</td>\n",
       "      <td>Not checked</td>\n",
       "      <td>Checked</td>\n",
       "      <td>...</td>\n",
       "      <td>No</td>\n",
       "      <td>Yes</td>\n",
       "      <td>0.00</td>\n",
       "      <td>15.00</td>\n",
       "      <td>40.00</td>\n",
       "      <td>0.00</td>\n",
       "      <td>12.00</td>\n",
       "      <td>20.00</td>\n",
       "      <td>5.00</td>\n",
       "      <td>0.00</td>\n",
       "    </tr>\n",
       "    <tr>\n",
       "      <th>4</th>\n",
       "      <td>1000000000000</td>\n",
       "      <td>Not checked</td>\n",
       "      <td>Not checked</td>\n",
       "      <td>Not checked</td>\n",
       "      <td>Not checked</td>\n",
       "      <td>Not checked</td>\n",
       "      <td>Checked</td>\n",
       "      <td>Not checked</td>\n",
       "      <td>Not checked</td>\n",
       "      <td>Not checked</td>\n",
       "      <td>...</td>\n",
       "      <td>No</td>\n",
       "      <td>No</td>\n",
       "      <td>0.00</td>\n",
       "      <td>0.00</td>\n",
       "      <td>100.00</td>\n",
       "      <td>0.00</td>\n",
       "      <td>0.00</td>\n",
       "      <td>0.00</td>\n",
       "      <td>0.00</td>\n",
       "      <td>0.00</td>\n",
       "    </tr>\n",
       "  </tbody>\n",
       "</table>\n",
       "<p>5 rows × 1575 columns</p>\n",
       "</div>"
      ],
      "text/plain": [
       "                 act1       act101       act102       act103       act104  \\\n",
       "0    1111000000100000  Not checked  Not checked      Checked      Checked   \n",
       "1                  10  Not checked  Not checked  Not checked  Not checked   \n",
       "2    1100000000000000  Not checked  Not checked      Checked      Checked   \n",
       "3  100001101111001000      Checked  Not checked  Not checked  Not checked   \n",
       "4       1000000000000  Not checked  Not checked  Not checked  Not checked   \n",
       "\n",
       "        act105       act106       act107       act108       act109  ...    \\\n",
       "0      Checked      Checked  Not checked  Not checked  Not checked  ...     \n",
       "1  Not checked  Not checked  Not checked  Not checked  Not checked  ...     \n",
       "2  Not checked  Not checked  Not checked  Not checked  Not checked  ...     \n",
       "3  Not checked      Checked      Checked  Not checked      Checked  ...     \n",
       "4  Not checked      Checked  Not checked  Not checked  Not checked  ...     \n",
       "\n",
       "  tab245a tab285a tenn2x voll3x  walk8x wghts2x wski2x wsrf2x xski2x xski6x  \n",
       "0      No      No  14.00   0.00    0.00   60.00   0.00   0.00   0.00   0.00  \n",
       "1      No      No   0.00   0.00  365.00    0.00   0.00   0.00   0.00   0.00  \n",
       "2      No      No   0.00   0.00  100.00   50.00   0.00   0.00   0.00   0.00  \n",
       "3      No     Yes   0.00  15.00   40.00    0.00  12.00  20.00   5.00   0.00  \n",
       "4      No      No   0.00   0.00  100.00    0.00   0.00   0.00   0.00   0.00  \n",
       "\n",
       "[5 rows x 1575 columns]"
      ]
     },
     "execution_count": 41,
     "metadata": {},
     "output_type": "execute_result"
    }
   ],
   "source": [
    "# Check first few rows of resulting dataframe\n",
    "combined_data.head()"
   ]
  },
  {
   "cell_type": "code",
   "execution_count": 52,
   "metadata": {},
   "outputs": [
    {
     "data": {
      "text/html": [
       "<div>\n",
       "<style scoped>\n",
       "    .dataframe tbody tr th:only-of-type {\n",
       "        vertical-align: middle;\n",
       "    }\n",
       "\n",
       "    .dataframe tbody tr th {\n",
       "        vertical-align: top;\n",
       "    }\n",
       "\n",
       "    .dataframe thead th {\n",
       "        text-align: right;\n",
       "    }\n",
       "</style>\n",
       "<table border=\"1\" class=\"dataframe\">\n",
       "  <thead>\n",
       "    <tr style=\"text-align: right;\">\n",
       "      <th></th>\n",
       "      <th>act1</th>\n",
       "      <th>act101</th>\n",
       "      <th>act102</th>\n",
       "      <th>act103</th>\n",
       "      <th>act104</th>\n",
       "      <th>act105</th>\n",
       "      <th>act106</th>\n",
       "      <th>act107</th>\n",
       "      <th>act108</th>\n",
       "      <th>act109</th>\n",
       "      <th>...</th>\n",
       "      <th>tab245a</th>\n",
       "      <th>tab285a</th>\n",
       "      <th>tenn2x</th>\n",
       "      <th>voll3x</th>\n",
       "      <th>walk8x</th>\n",
       "      <th>wghts2x</th>\n",
       "      <th>wski2x</th>\n",
       "      <th>wsrf2x</th>\n",
       "      <th>xski2x</th>\n",
       "      <th>xski6x</th>\n",
       "    </tr>\n",
       "  </thead>\n",
       "  <tbody>\n",
       "    <tr>\n",
       "      <th>0</th>\n",
       "      <td>1111000000100000</td>\n",
       "      <td>0</td>\n",
       "      <td>0</td>\n",
       "      <td>1</td>\n",
       "      <td>1</td>\n",
       "      <td>1</td>\n",
       "      <td>1</td>\n",
       "      <td>0</td>\n",
       "      <td>0</td>\n",
       "      <td>0</td>\n",
       "      <td>...</td>\n",
       "      <td>0</td>\n",
       "      <td>0</td>\n",
       "      <td>14.00</td>\n",
       "      <td>0.00</td>\n",
       "      <td>0.00</td>\n",
       "      <td>60.00</td>\n",
       "      <td>0.00</td>\n",
       "      <td>0.00</td>\n",
       "      <td>0.00</td>\n",
       "      <td>0.00</td>\n",
       "    </tr>\n",
       "    <tr>\n",
       "      <th>1</th>\n",
       "      <td>10</td>\n",
       "      <td>0</td>\n",
       "      <td>0</td>\n",
       "      <td>0</td>\n",
       "      <td>0</td>\n",
       "      <td>0</td>\n",
       "      <td>0</td>\n",
       "      <td>0</td>\n",
       "      <td>0</td>\n",
       "      <td>0</td>\n",
       "      <td>...</td>\n",
       "      <td>0</td>\n",
       "      <td>0</td>\n",
       "      <td>0.00</td>\n",
       "      <td>0.00</td>\n",
       "      <td>365.00</td>\n",
       "      <td>0.00</td>\n",
       "      <td>0.00</td>\n",
       "      <td>0.00</td>\n",
       "      <td>0.00</td>\n",
       "      <td>0.00</td>\n",
       "    </tr>\n",
       "    <tr>\n",
       "      <th>2</th>\n",
       "      <td>1100000000000000</td>\n",
       "      <td>0</td>\n",
       "      <td>0</td>\n",
       "      <td>1</td>\n",
       "      <td>1</td>\n",
       "      <td>0</td>\n",
       "      <td>0</td>\n",
       "      <td>0</td>\n",
       "      <td>0</td>\n",
       "      <td>0</td>\n",
       "      <td>...</td>\n",
       "      <td>0</td>\n",
       "      <td>0</td>\n",
       "      <td>0.00</td>\n",
       "      <td>0.00</td>\n",
       "      <td>100.00</td>\n",
       "      <td>50.00</td>\n",
       "      <td>0.00</td>\n",
       "      <td>0.00</td>\n",
       "      <td>0.00</td>\n",
       "      <td>0.00</td>\n",
       "    </tr>\n",
       "    <tr>\n",
       "      <th>3</th>\n",
       "      <td>100001101111001000</td>\n",
       "      <td>1</td>\n",
       "      <td>0</td>\n",
       "      <td>0</td>\n",
       "      <td>0</td>\n",
       "      <td>0</td>\n",
       "      <td>1</td>\n",
       "      <td>1</td>\n",
       "      <td>0</td>\n",
       "      <td>1</td>\n",
       "      <td>...</td>\n",
       "      <td>0</td>\n",
       "      <td>1</td>\n",
       "      <td>0.00</td>\n",
       "      <td>15.00</td>\n",
       "      <td>40.00</td>\n",
       "      <td>0.00</td>\n",
       "      <td>12.00</td>\n",
       "      <td>20.00</td>\n",
       "      <td>5.00</td>\n",
       "      <td>0.00</td>\n",
       "    </tr>\n",
       "    <tr>\n",
       "      <th>4</th>\n",
       "      <td>1000000000000</td>\n",
       "      <td>0</td>\n",
       "      <td>0</td>\n",
       "      <td>0</td>\n",
       "      <td>0</td>\n",
       "      <td>0</td>\n",
       "      <td>1</td>\n",
       "      <td>0</td>\n",
       "      <td>0</td>\n",
       "      <td>0</td>\n",
       "      <td>...</td>\n",
       "      <td>0</td>\n",
       "      <td>0</td>\n",
       "      <td>0.00</td>\n",
       "      <td>0.00</td>\n",
       "      <td>100.00</td>\n",
       "      <td>0.00</td>\n",
       "      <td>0.00</td>\n",
       "      <td>0.00</td>\n",
       "      <td>0.00</td>\n",
       "      <td>0.00</td>\n",
       "    </tr>\n",
       "  </tbody>\n",
       "</table>\n",
       "<p>5 rows × 1575 columns</p>\n",
       "</div>"
      ],
      "text/plain": [
       "                 act1  act101  act102  act103  act104  act105  act106  act107  \\\n",
       "0    1111000000100000       0       0       1       1       1       1       0   \n",
       "1                  10       0       0       0       0       0       0       0   \n",
       "2    1100000000000000       0       0       1       1       0       0       0   \n",
       "3  100001101111001000       1       0       0       0       0       1       1   \n",
       "4       1000000000000       0       0       0       0       0       1       0   \n",
       "\n",
       "   act108  act109  ...    tab245a  tab285a  tenn2x  voll3x  walk8x  wghts2x  \\\n",
       "0       0       0  ...          0        0   14.00    0.00    0.00    60.00   \n",
       "1       0       0  ...          0        0    0.00    0.00  365.00     0.00   \n",
       "2       0       0  ...          0        0    0.00    0.00  100.00    50.00   \n",
       "3       0       1  ...          0        1    0.00   15.00   40.00     0.00   \n",
       "4       0       0  ...          0        0    0.00    0.00  100.00     0.00   \n",
       "\n",
       "   wski2x  wsrf2x  xski2x xski6x  \n",
       "0    0.00    0.00    0.00   0.00  \n",
       "1    0.00    0.00    0.00   0.00  \n",
       "2    0.00    0.00    0.00   0.00  \n",
       "3   12.00   20.00    5.00   0.00  \n",
       "4    0.00    0.00    0.00   0.00  \n",
       "\n",
       "[5 rows x 1575 columns]"
      ]
     },
     "execution_count": 52,
     "metadata": {},
     "output_type": "execute_result"
    }
   ],
   "source": [
    "# Change \"checked/not checked\" and \"yes/no\" to 0/1\n",
    "combined_data = combined_data.replace({'Yes': 1, 'No': 0, 'Not checked': 0, 'Checked': 1})\n",
    "combined_data.head()"
   ]
  },
  {
   "cell_type": "code",
   "execution_count": 59,
   "metadata": {},
   "outputs": [],
   "source": [
    "# Drop participants with no gender\n",
    "combined_data.gender.unique()\n",
    "\n",
    "gender_dataset = combined_data[combined_data.gender != \"Don't know\"]"
   ]
  },
  {
   "cell_type": "code",
   "execution_count": 66,
   "metadata": {},
   "outputs": [
    {
     "data": {
      "text/plain": [
       "(3112, 1575)"
      ]
     },
     "execution_count": 66,
     "metadata": {},
     "output_type": "execute_result"
    }
   ],
   "source": [
    "# Check shape to see how many observations dropped (only 2)\n",
    "gender_dataset.shape"
   ]
  },
  {
   "cell_type": "code",
   "execution_count": 67,
   "metadata": {},
   "outputs": [],
   "source": [
    "# Save gender data set to clean data folder\n",
    "gender_dataset.to_csv('data_clean/gender_data_clean.csv')"
   ]
  },
  {
   "cell_type": "code",
   "execution_count": 76,
   "metadata": {},
   "outputs": [
    {
     "data": {
      "text/plain": [
       "(2910, 1575)"
      ]
     },
     "execution_count": 76,
     "metadata": {},
     "output_type": "execute_result"
    }
   ],
   "source": [
    "# Drop participants with no race/ethnicity information\n",
    "\n",
    "# Drop \"Don't know\" and \"Refused\"\n",
    "race_dataset = combined_data[combined_data.race09 != 1]\n",
    "race_dataset = race_dataset[race_dataset.race08 != 1]\n",
    "race_dataset.shape"
   ]
  },
  {
   "cell_type": "markdown",
   "metadata": {},
   "source": [
    "https://stackoverflow.com/questions/26886653/pandas-create-new-column-based-on-values-from-other-columns"
   ]
  },
  {
   "cell_type": "code",
   "execution_count": 80,
   "metadata": {},
   "outputs": [],
   "source": [
    "# Create one race column - define function to map columns to races\n",
    "def label_race (row):\n",
    "   if row['race01'] == 1 :\n",
    "      return 'White'\n",
    "   if row['race01'] + row['race02'] + row['race03'] + row['race04'] + row['race05'] + row['race06'] + row['race07'] > 1 :\n",
    "      return 'Two Or More'\n",
    "   if row['race02'] == 1 :\n",
    "      return 'Black'\n",
    "   if row['race03'] == 1:\n",
    "      return 'Hispanic/Latino'\n",
    "   if row['race04']  == 1:\n",
    "      return 'Asian'\n",
    "   if row['race05'] == 1:\n",
    "      return 'Haw/Pac Isl.'\n",
    "   if row['race06'] == 1:\n",
    "      return 'American Indian/Alaska Native'\n",
    "   return 'Other'"
   ]
  },
  {
   "cell_type": "code",
   "execution_count": 82,
   "metadata": {},
   "outputs": [],
   "source": [
    "race_dataset['race_label'] = race_dataset.apply(label_race, axis=1)"
   ]
  },
  {
   "cell_type": "code",
   "execution_count": 83,
   "metadata": {},
   "outputs": [],
   "source": [
    "# Save race data set to clean data folder\n",
    "race_dataset.to_csv('data_clean/race_data_clean.csv')"
   ]
  },
  {
   "cell_type": "markdown",
   "metadata": {},
   "source": [
    "#### Statistical Analysis"
   ]
  },
  {
   "cell_type": "code",
   "execution_count": null,
   "metadata": {},
   "outputs": [],
   "source": []
  },
  {
   "cell_type": "markdown",
   "metadata": {},
   "source": [
    "#### Data Visualization"
   ]
  },
  {
   "cell_type": "code",
   "execution_count": null,
   "metadata": {},
   "outputs": [],
   "source": []
  }
 ],
 "metadata": {
  "kernelspec": {
   "display_name": "Python 3",
   "language": "python",
   "name": "python3"
  },
  "language_info": {
   "codemirror_mode": {
    "name": "ipython",
    "version": 3
   },
   "file_extension": ".py",
   "mimetype": "text/x-python",
   "name": "python",
   "nbconvert_exporter": "python",
   "pygments_lexer": "ipython3",
   "version": "3.6.4"
  }
 },
 "nbformat": 4,
 "nbformat_minor": 2
}
