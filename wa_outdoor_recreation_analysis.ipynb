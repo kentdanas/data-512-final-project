{
 "cells": [
  {
   "cell_type": "markdown",
   "metadata": {},
   "source": [
    "# A Diversity Analysis of Participation in Outdoor Recreation in Washington\n",
    "\n",
    "### Final Project for HCDS 512, Autumn 2018\n",
    "\n",
    "The purpose of this notebook is to complete a statistical analysis and visualization of the racial and gender diversity of participants in certain outdoor recreational activities in Washington State. This work was originally completed for the University of Washington's DATA 512 course on Human Centered Data Science in Autumn 2018. \n",
    "\n",
    "The notebook is divided into the following sections:\n",
    "\n",
    " - Introduction\n",
    " - Background\n",
    " - Data\n",
    "     - Data Source\n",
    "     - Data Acquisition\n",
    "     - Data Processing\n",
    " - Data Visualization\n",
    " - Statistical Analysis\n",
    " - Discussion\n",
    " - Conclusion\n",
    " - References\n",
    "\n",
    "All sections are thoroughly documented so as to support reproducibility of this analysis."
   ]
  },
  {
   "cell_type": "markdown",
   "metadata": {},
   "source": [
    "## Introduction"
   ]
  },
  {
   "cell_type": "code",
   "execution_count": 205,
   "metadata": {},
   "outputs": [],
   "source": [
    "# import necessary packages and notebook setup\n",
    "import matplotlib.pyplot as plt\n",
    "import numpy as np\n",
    "import pandas as pd\n",
    "from scipy import stats\n",
    "from sodapy import Socrata\n",
    "import statsmodels.stats.proportion as ssp"
   ]
  },
  {
   "cell_type": "markdown",
   "metadata": {},
   "source": [
    "## Background"
   ]
  },
  {
   "cell_type": "markdown",
   "metadata": {},
   "source": [
    "## Data"
   ]
  },
  {
   "cell_type": "markdown",
   "metadata": {},
   "source": [
    "### Data Source"
   ]
  },
  {
   "cell_type": "markdown",
   "metadata": {},
   "source": [
    "### Data Acquisition"
   ]
  },
  {
   "cell_type": "markdown",
   "metadata": {},
   "source": [
    "code from this link: https://dev.socrata.com/foundry/data.wa.gov/amq9-iaai"
   ]
  },
  {
   "cell_type": "code",
   "execution_count": 23,
   "metadata": {},
   "outputs": [],
   "source": [
    "# Define endpoints for each of the 7 parts of the dataset\n",
    "endpoints = ['amq9-iaai', 'ek6m-rgb7', '8zc8-9ad4', 'v2c2-rkrp', 'hzyw-na2k', 'uwas-gd9z', 'q62a-ce6s']\n",
    "\n",
    "# Define app token for API requests\n",
    "app_token = 'OnW02vywUSKEfNP2DEYO7OMM5'\n",
    "\n",
    "#Create dictionary to save dataframes\n",
    "parts = {}\n",
    "\n",
    "# Make API call for each endpoint and save file\n",
    "for endpoint in endpoints:\n",
    "    file_name = 'data_raw/scorp_' + endpoint + '.csv'\n",
    "    client = Socrata(\"data.wa.gov\", app_token)\n",
    "    results = client.get(endpoint, limit=3200)\n",
    "    results_df = pd.DataFrame.from_records(results)\n",
    "    results_df.to_csv(file_name)\n",
    "    parts[endpoint] = results_df"
   ]
  },
  {
   "cell_type": "markdown",
   "metadata": {},
   "source": [
    "### Data Processing"
   ]
  },
  {
   "cell_type": "code",
   "execution_count": 39,
   "metadata": {},
   "outputs": [],
   "source": [
    "#Merge all dataframes from the data dictionary\n",
    "keys = list(parts.keys())\n",
    "combined_data = parts[keys[0]]\n",
    "\n",
    "for i in range(1, len(keys)):\n",
    "    combined_data = combined_data.merge(parts[keys[i]], how = 'inner', on = ['idnumber'])\n",
    "    \n",
    "# Check shape of resulting dataframe\n",
    "combined_data.shape"
   ]
  },
  {
   "cell_type": "code",
   "execution_count": 41,
   "metadata": {},
   "outputs": [
    {
     "data": {
      "text/html": [
       "<div>\n",
       "<style scoped>\n",
       "    .dataframe tbody tr th:only-of-type {\n",
       "        vertical-align: middle;\n",
       "    }\n",
       "\n",
       "    .dataframe tbody tr th {\n",
       "        vertical-align: top;\n",
       "    }\n",
       "\n",
       "    .dataframe thead th {\n",
       "        text-align: right;\n",
       "    }\n",
       "</style>\n",
       "<table border=\"1\" class=\"dataframe\">\n",
       "  <thead>\n",
       "    <tr style=\"text-align: right;\">\n",
       "      <th></th>\n",
       "      <th>act1</th>\n",
       "      <th>act101</th>\n",
       "      <th>act102</th>\n",
       "      <th>act103</th>\n",
       "      <th>act104</th>\n",
       "      <th>act105</th>\n",
       "      <th>act106</th>\n",
       "      <th>act107</th>\n",
       "      <th>act108</th>\n",
       "      <th>act109</th>\n",
       "      <th>...</th>\n",
       "      <th>tab245a</th>\n",
       "      <th>tab285a</th>\n",
       "      <th>tenn2x</th>\n",
       "      <th>voll3x</th>\n",
       "      <th>walk8x</th>\n",
       "      <th>wghts2x</th>\n",
       "      <th>wski2x</th>\n",
       "      <th>wsrf2x</th>\n",
       "      <th>xski2x</th>\n",
       "      <th>xski6x</th>\n",
       "    </tr>\n",
       "  </thead>\n",
       "  <tbody>\n",
       "    <tr>\n",
       "      <th>0</th>\n",
       "      <td>1111000000100000</td>\n",
       "      <td>Not checked</td>\n",
       "      <td>Not checked</td>\n",
       "      <td>Checked</td>\n",
       "      <td>Checked</td>\n",
       "      <td>Checked</td>\n",
       "      <td>Checked</td>\n",
       "      <td>Not checked</td>\n",
       "      <td>Not checked</td>\n",
       "      <td>Not checked</td>\n",
       "      <td>...</td>\n",
       "      <td>No</td>\n",
       "      <td>No</td>\n",
       "      <td>14.00</td>\n",
       "      <td>0.00</td>\n",
       "      <td>0.00</td>\n",
       "      <td>60.00</td>\n",
       "      <td>0.00</td>\n",
       "      <td>0.00</td>\n",
       "      <td>0.00</td>\n",
       "      <td>0.00</td>\n",
       "    </tr>\n",
       "    <tr>\n",
       "      <th>1</th>\n",
       "      <td>10</td>\n",
       "      <td>Not checked</td>\n",
       "      <td>Not checked</td>\n",
       "      <td>Not checked</td>\n",
       "      <td>Not checked</td>\n",
       "      <td>Not checked</td>\n",
       "      <td>Not checked</td>\n",
       "      <td>Not checked</td>\n",
       "      <td>Not checked</td>\n",
       "      <td>Not checked</td>\n",
       "      <td>...</td>\n",
       "      <td>No</td>\n",
       "      <td>No</td>\n",
       "      <td>0.00</td>\n",
       "      <td>0.00</td>\n",
       "      <td>365.00</td>\n",
       "      <td>0.00</td>\n",
       "      <td>0.00</td>\n",
       "      <td>0.00</td>\n",
       "      <td>0.00</td>\n",
       "      <td>0.00</td>\n",
       "    </tr>\n",
       "    <tr>\n",
       "      <th>2</th>\n",
       "      <td>1100000000000000</td>\n",
       "      <td>Not checked</td>\n",
       "      <td>Not checked</td>\n",
       "      <td>Checked</td>\n",
       "      <td>Checked</td>\n",
       "      <td>Not checked</td>\n",
       "      <td>Not checked</td>\n",
       "      <td>Not checked</td>\n",
       "      <td>Not checked</td>\n",
       "      <td>Not checked</td>\n",
       "      <td>...</td>\n",
       "      <td>No</td>\n",
       "      <td>No</td>\n",
       "      <td>0.00</td>\n",
       "      <td>0.00</td>\n",
       "      <td>100.00</td>\n",
       "      <td>50.00</td>\n",
       "      <td>0.00</td>\n",
       "      <td>0.00</td>\n",
       "      <td>0.00</td>\n",
       "      <td>0.00</td>\n",
       "    </tr>\n",
       "    <tr>\n",
       "      <th>3</th>\n",
       "      <td>100001101111001000</td>\n",
       "      <td>Checked</td>\n",
       "      <td>Not checked</td>\n",
       "      <td>Not checked</td>\n",
       "      <td>Not checked</td>\n",
       "      <td>Not checked</td>\n",
       "      <td>Checked</td>\n",
       "      <td>Checked</td>\n",
       "      <td>Not checked</td>\n",
       "      <td>Checked</td>\n",
       "      <td>...</td>\n",
       "      <td>No</td>\n",
       "      <td>Yes</td>\n",
       "      <td>0.00</td>\n",
       "      <td>15.00</td>\n",
       "      <td>40.00</td>\n",
       "      <td>0.00</td>\n",
       "      <td>12.00</td>\n",
       "      <td>20.00</td>\n",
       "      <td>5.00</td>\n",
       "      <td>0.00</td>\n",
       "    </tr>\n",
       "    <tr>\n",
       "      <th>4</th>\n",
       "      <td>1000000000000</td>\n",
       "      <td>Not checked</td>\n",
       "      <td>Not checked</td>\n",
       "      <td>Not checked</td>\n",
       "      <td>Not checked</td>\n",
       "      <td>Not checked</td>\n",
       "      <td>Checked</td>\n",
       "      <td>Not checked</td>\n",
       "      <td>Not checked</td>\n",
       "      <td>Not checked</td>\n",
       "      <td>...</td>\n",
       "      <td>No</td>\n",
       "      <td>No</td>\n",
       "      <td>0.00</td>\n",
       "      <td>0.00</td>\n",
       "      <td>100.00</td>\n",
       "      <td>0.00</td>\n",
       "      <td>0.00</td>\n",
       "      <td>0.00</td>\n",
       "      <td>0.00</td>\n",
       "      <td>0.00</td>\n",
       "    </tr>\n",
       "  </tbody>\n",
       "</table>\n",
       "<p>5 rows × 1575 columns</p>\n",
       "</div>"
      ],
      "text/plain": [
       "                 act1       act101       act102       act103       act104  \\\n",
       "0    1111000000100000  Not checked  Not checked      Checked      Checked   \n",
       "1                  10  Not checked  Not checked  Not checked  Not checked   \n",
       "2    1100000000000000  Not checked  Not checked      Checked      Checked   \n",
       "3  100001101111001000      Checked  Not checked  Not checked  Not checked   \n",
       "4       1000000000000  Not checked  Not checked  Not checked  Not checked   \n",
       "\n",
       "        act105       act106       act107       act108       act109  ...    \\\n",
       "0      Checked      Checked  Not checked  Not checked  Not checked  ...     \n",
       "1  Not checked  Not checked  Not checked  Not checked  Not checked  ...     \n",
       "2  Not checked  Not checked  Not checked  Not checked  Not checked  ...     \n",
       "3  Not checked      Checked      Checked  Not checked      Checked  ...     \n",
       "4  Not checked      Checked  Not checked  Not checked  Not checked  ...     \n",
       "\n",
       "  tab245a tab285a tenn2x voll3x  walk8x wghts2x wski2x wsrf2x xski2x xski6x  \n",
       "0      No      No  14.00   0.00    0.00   60.00   0.00   0.00   0.00   0.00  \n",
       "1      No      No   0.00   0.00  365.00    0.00   0.00   0.00   0.00   0.00  \n",
       "2      No      No   0.00   0.00  100.00   50.00   0.00   0.00   0.00   0.00  \n",
       "3      No     Yes   0.00  15.00   40.00    0.00  12.00  20.00   5.00   0.00  \n",
       "4      No      No   0.00   0.00  100.00    0.00   0.00   0.00   0.00   0.00  \n",
       "\n",
       "[5 rows x 1575 columns]"
      ]
     },
     "execution_count": 41,
     "metadata": {},
     "output_type": "execute_result"
    }
   ],
   "source": [
    "# Check first few rows of resulting dataframe\n",
    "combined_data.head()"
   ]
  },
  {
   "cell_type": "code",
   "execution_count": 52,
   "metadata": {},
   "outputs": [
    {
     "data": {
      "text/html": [
       "<div>\n",
       "<style scoped>\n",
       "    .dataframe tbody tr th:only-of-type {\n",
       "        vertical-align: middle;\n",
       "    }\n",
       "\n",
       "    .dataframe tbody tr th {\n",
       "        vertical-align: top;\n",
       "    }\n",
       "\n",
       "    .dataframe thead th {\n",
       "        text-align: right;\n",
       "    }\n",
       "</style>\n",
       "<table border=\"1\" class=\"dataframe\">\n",
       "  <thead>\n",
       "    <tr style=\"text-align: right;\">\n",
       "      <th></th>\n",
       "      <th>act1</th>\n",
       "      <th>act101</th>\n",
       "      <th>act102</th>\n",
       "      <th>act103</th>\n",
       "      <th>act104</th>\n",
       "      <th>act105</th>\n",
       "      <th>act106</th>\n",
       "      <th>act107</th>\n",
       "      <th>act108</th>\n",
       "      <th>act109</th>\n",
       "      <th>...</th>\n",
       "      <th>tab245a</th>\n",
       "      <th>tab285a</th>\n",
       "      <th>tenn2x</th>\n",
       "      <th>voll3x</th>\n",
       "      <th>walk8x</th>\n",
       "      <th>wghts2x</th>\n",
       "      <th>wski2x</th>\n",
       "      <th>wsrf2x</th>\n",
       "      <th>xski2x</th>\n",
       "      <th>xski6x</th>\n",
       "    </tr>\n",
       "  </thead>\n",
       "  <tbody>\n",
       "    <tr>\n",
       "      <th>0</th>\n",
       "      <td>1111000000100000</td>\n",
       "      <td>0</td>\n",
       "      <td>0</td>\n",
       "      <td>1</td>\n",
       "      <td>1</td>\n",
       "      <td>1</td>\n",
       "      <td>1</td>\n",
       "      <td>0</td>\n",
       "      <td>0</td>\n",
       "      <td>0</td>\n",
       "      <td>...</td>\n",
       "      <td>0</td>\n",
       "      <td>0</td>\n",
       "      <td>14.00</td>\n",
       "      <td>0.00</td>\n",
       "      <td>0.00</td>\n",
       "      <td>60.00</td>\n",
       "      <td>0.00</td>\n",
       "      <td>0.00</td>\n",
       "      <td>0.00</td>\n",
       "      <td>0.00</td>\n",
       "    </tr>\n",
       "    <tr>\n",
       "      <th>1</th>\n",
       "      <td>10</td>\n",
       "      <td>0</td>\n",
       "      <td>0</td>\n",
       "      <td>0</td>\n",
       "      <td>0</td>\n",
       "      <td>0</td>\n",
       "      <td>0</td>\n",
       "      <td>0</td>\n",
       "      <td>0</td>\n",
       "      <td>0</td>\n",
       "      <td>...</td>\n",
       "      <td>0</td>\n",
       "      <td>0</td>\n",
       "      <td>0.00</td>\n",
       "      <td>0.00</td>\n",
       "      <td>365.00</td>\n",
       "      <td>0.00</td>\n",
       "      <td>0.00</td>\n",
       "      <td>0.00</td>\n",
       "      <td>0.00</td>\n",
       "      <td>0.00</td>\n",
       "    </tr>\n",
       "    <tr>\n",
       "      <th>2</th>\n",
       "      <td>1100000000000000</td>\n",
       "      <td>0</td>\n",
       "      <td>0</td>\n",
       "      <td>1</td>\n",
       "      <td>1</td>\n",
       "      <td>0</td>\n",
       "      <td>0</td>\n",
       "      <td>0</td>\n",
       "      <td>0</td>\n",
       "      <td>0</td>\n",
       "      <td>...</td>\n",
       "      <td>0</td>\n",
       "      <td>0</td>\n",
       "      <td>0.00</td>\n",
       "      <td>0.00</td>\n",
       "      <td>100.00</td>\n",
       "      <td>50.00</td>\n",
       "      <td>0.00</td>\n",
       "      <td>0.00</td>\n",
       "      <td>0.00</td>\n",
       "      <td>0.00</td>\n",
       "    </tr>\n",
       "    <tr>\n",
       "      <th>3</th>\n",
       "      <td>100001101111001000</td>\n",
       "      <td>1</td>\n",
       "      <td>0</td>\n",
       "      <td>0</td>\n",
       "      <td>0</td>\n",
       "      <td>0</td>\n",
       "      <td>1</td>\n",
       "      <td>1</td>\n",
       "      <td>0</td>\n",
       "      <td>1</td>\n",
       "      <td>...</td>\n",
       "      <td>0</td>\n",
       "      <td>1</td>\n",
       "      <td>0.00</td>\n",
       "      <td>15.00</td>\n",
       "      <td>40.00</td>\n",
       "      <td>0.00</td>\n",
       "      <td>12.00</td>\n",
       "      <td>20.00</td>\n",
       "      <td>5.00</td>\n",
       "      <td>0.00</td>\n",
       "    </tr>\n",
       "    <tr>\n",
       "      <th>4</th>\n",
       "      <td>1000000000000</td>\n",
       "      <td>0</td>\n",
       "      <td>0</td>\n",
       "      <td>0</td>\n",
       "      <td>0</td>\n",
       "      <td>0</td>\n",
       "      <td>1</td>\n",
       "      <td>0</td>\n",
       "      <td>0</td>\n",
       "      <td>0</td>\n",
       "      <td>...</td>\n",
       "      <td>0</td>\n",
       "      <td>0</td>\n",
       "      <td>0.00</td>\n",
       "      <td>0.00</td>\n",
       "      <td>100.00</td>\n",
       "      <td>0.00</td>\n",
       "      <td>0.00</td>\n",
       "      <td>0.00</td>\n",
       "      <td>0.00</td>\n",
       "      <td>0.00</td>\n",
       "    </tr>\n",
       "  </tbody>\n",
       "</table>\n",
       "<p>5 rows × 1575 columns</p>\n",
       "</div>"
      ],
      "text/plain": [
       "                 act1  act101  act102  act103  act104  act105  act106  act107  \\\n",
       "0    1111000000100000       0       0       1       1       1       1       0   \n",
       "1                  10       0       0       0       0       0       0       0   \n",
       "2    1100000000000000       0       0       1       1       0       0       0   \n",
       "3  100001101111001000       1       0       0       0       0       1       1   \n",
       "4       1000000000000       0       0       0       0       0       1       0   \n",
       "\n",
       "   act108  act109  ...    tab245a  tab285a  tenn2x  voll3x  walk8x  wghts2x  \\\n",
       "0       0       0  ...          0        0   14.00    0.00    0.00    60.00   \n",
       "1       0       0  ...          0        0    0.00    0.00  365.00     0.00   \n",
       "2       0       0  ...          0        0    0.00    0.00  100.00    50.00   \n",
       "3       0       1  ...          0        1    0.00   15.00   40.00     0.00   \n",
       "4       0       0  ...          0        0    0.00    0.00  100.00     0.00   \n",
       "\n",
       "   wski2x  wsrf2x  xski2x xski6x  \n",
       "0    0.00    0.00    0.00   0.00  \n",
       "1    0.00    0.00    0.00   0.00  \n",
       "2    0.00    0.00    0.00   0.00  \n",
       "3   12.00   20.00    5.00   0.00  \n",
       "4    0.00    0.00    0.00   0.00  \n",
       "\n",
       "[5 rows x 1575 columns]"
      ]
     },
     "execution_count": 52,
     "metadata": {},
     "output_type": "execute_result"
    }
   ],
   "source": [
    "# Change \"checked/not checked\" and \"yes/no\" to 0/1\n",
    "combined_data = combined_data.replace({'Yes': 1, 'No': 0, 'Not checked': 0, 'Checked': 1})\n",
    "combined_data.head()"
   ]
  },
  {
   "cell_type": "code",
   "execution_count": 419,
   "metadata": {},
   "outputs": [
    {
     "data": {
      "text/plain": [
       "(3112, 1575)"
      ]
     },
     "execution_count": 419,
     "metadata": {},
     "output_type": "execute_result"
    }
   ],
   "source": [
    "# Drop participants with no gender and check shape\n",
    "combined_data.gender.unique()\n",
    "gender_dataset_full = combined_data[combined_data.gender != \"Don't know\"]\n",
    "gender_dataset_full.shape"
   ]
  },
  {
   "cell_type": "code",
   "execution_count": 94,
   "metadata": {},
   "outputs": [
    {
     "data": {
      "text/plain": [
       "(2910, 1575)"
      ]
     },
     "execution_count": 94,
     "metadata": {},
     "output_type": "execute_result"
    }
   ],
   "source": [
    "# Drop participants with no race/ethnicity information \"Don't know\" and \"Refused\"\n",
    "race_dataset_full = combined_data[combined_data.race09 != 1]\n",
    "race_dataset_full = race_dataset_full[race_dataset_full.race08 != 1]\n",
    "race_dataset_full.shape"
   ]
  },
  {
   "cell_type": "markdown",
   "metadata": {},
   "source": [
    "https://stackoverflow.com/questions/26886653/pandas-create-new-column-based-on-values-from-other-columns"
   ]
  },
  {
   "cell_type": "code",
   "execution_count": 80,
   "metadata": {},
   "outputs": [],
   "source": [
    "# Create one race column - define function to map columns to races\n",
    "def label_race (row):\n",
    "   if row['race01'] == 1 :\n",
    "      return 'White'\n",
    "   if row['race01'] + row['race02'] + row['race03'] + row['race04'] + row['race05'] + row['race06'] + row['race07'] > 1 :\n",
    "      return 'Two Or More'\n",
    "   if row['race02'] == 1 :\n",
    "      return 'Black'\n",
    "   if row['race03'] == 1:\n",
    "      return 'Hispanic/Latino'\n",
    "   if row['race04']  == 1:\n",
    "      return 'Asian'\n",
    "   if row['race05'] == 1:\n",
    "      return 'Haw/Pac Isl.'\n",
    "   if row['race06'] == 1:\n",
    "      return 'American Indian/Alaska Native'\n",
    "   return 'Other'"
   ]
  },
  {
   "cell_type": "code",
   "execution_count": 95,
   "metadata": {},
   "outputs": [],
   "source": [
    "race_dataset_full['race_label'] = race_dataset_full.apply(label_race, axis=1)"
   ]
  },
  {
   "cell_type": "code",
   "execution_count": null,
   "metadata": {},
   "outputs": [],
   "source": [
    "def any_backcountry(row):\n",
    "    if np.nansum(row) > 0:\n",
    "        return 1\n",
    "    return 0"
   ]
  },
  {
   "cell_type": "code",
   "execution_count": 417,
   "metadata": {},
   "outputs": [],
   "source": [
    "# Subset data to get only needed fields\n",
    "race_small = race_dataset_full[['idnumber', \n",
    "                                'snoact04', \n",
    "                                'snoact01', \n",
    "                                'snoact05', \n",
    "                                'climb101', \n",
    "                                'climb102',\n",
    "                                'camp103', \n",
    "                                'hik203', \n",
    "                                'race_label']]\n",
    "\n",
    "gender_small = gender_dataset_full[['idnumber', \n",
    "                                'snoact04', \n",
    "                                'snoact01', \n",
    "                                'snoact05', \n",
    "                                'climb101', \n",
    "                                'climb102',\n",
    "                                'camp103', \n",
    "                                'hik203', \n",
    "                                'gender']]"
   ]
  },
  {
   "cell_type": "code",
   "execution_count": 418,
   "metadata": {},
   "outputs": [
    {
     "name": "stderr",
     "output_type": "stream",
     "text": [
      "C:\\Users\\kentd\\Anaconda3\\lib\\site-packages\\ipykernel_launcher.py:11: SettingWithCopyWarning: \n",
      "A value is trying to be set on a copy of a slice from a DataFrame\n",
      "\n",
      "See the caveats in the documentation: http://pandas.pydata.org/pandas-docs/stable/indexing.html#indexing-view-versus-copy\n",
      "  # This is added back by InteractiveShellApp.init_path()\n",
      "C:\\Users\\kentd\\Anaconda3\\lib\\site-packages\\ipykernel_launcher.py:13: SettingWithCopyWarning: \n",
      "A value is trying to be set on a copy of a slice from a DataFrame\n",
      "\n",
      "See the caveats in the documentation: http://pandas.pydata.org/pandas-docs/stable/indexing.html#indexing-view-versus-copy\n",
      "  del sys.path[0]\n"
     ]
    }
   ],
   "source": [
    "# Get any backcountry designation\n",
    "backcountry_fields = ['snoact04', \n",
    "                      'snoact01', \n",
    "                      'snoact05', \n",
    "                      'climb101', \n",
    "                      'climb102', \n",
    "                      'camp103', \n",
    "                      'hik203']\n",
    "\n",
    "race_small_fields = race_small[backcountry_fields]\n",
    "race_small.loc['any_backcountry'] = race_small_fields.apply(any_backcountry, axis=1)\n",
    "gender_small_fields = gender_small[backcountry_fields]\n",
    "gender_small.loc['any_backcountry'] = gender_small_fields.apply(any_backcountry, axis=1)"
   ]
  },
  {
   "cell_type": "code",
   "execution_count": 243,
   "metadata": {},
   "outputs": [],
   "source": [
    "# Save data sets to clean data folder\n",
    "race_small.to_csv('data_clean/race_data_clean.csv')\n",
    "gender_small.to_csv('data_clean/gender_data_clean.csv')"
   ]
  },
  {
   "cell_type": "code",
   "execution_count": null,
   "metadata": {},
   "outputs": [],
   "source": [
    "gender_nobs = gender_small.groupby(['gender'], sort=False).size()\n",
    "gender_counts = gender_small.groupby(['gender'], sort=False)['any_backcountry'].sum()\n",
    "race_nobs = race_small.groupby(['race_label'], sort=False).size()\n",
    "race_counts = race_small.groupby(['race_label'], sort=False)['any_backcountry'].sum()\n",
    "# Proportion who participate in backcountry\n",
    "gender_props = gender_counts/gender_nobs\n",
    "race_props = race_counts/race_nobs\n",
    "gender_counts_all = gender_small.groupby(['gender'], sort=False).sum()\n",
    "gender_props_all = gender_counts_all.div(gender_nobs, axis=0)\n",
    "race_counts_all = race_small.groupby(['race_label'], sort=False).sum()\n",
    "race_props_all = race_counts_all.div(race_nobs, axis=0)"
   ]
  },
  {
   "cell_type": "markdown",
   "metadata": {},
   "source": [
    "## Data Visualization"
   ]
  },
  {
   "cell_type": "code",
   "execution_count": 420,
   "metadata": {},
   "outputs": [
    {
     "data": {
      "image/png": "[encoded data removed]",
      "text/plain": [
       "<matplotlib.figure.Figure at 0x24851a3ada0>"
      ]
     },
     "metadata": {},
     "output_type": "display_data"
    }
   ],
   "source": [
    "# Sampling distribution\n",
    "fig = plt.figure(figsize=(10,6))\n",
    "fig.suptitle('Distribution of Survey Respondents')\n",
    "ax1 = fig.add_subplot(121)\n",
    "ind = np.arange(2)\n",
    "colors = ['maroon', 'rosybrown']\n",
    "gender = ax1.bar(ind, gender_nobs, color=colors)\n",
    "plt.xticks(rotation=90)\n",
    "ax1.set_ylabel('Number of Survey Participants')\n",
    "ax1.set_title('By Gender')\n",
    "ax1.set_xticks(ind)\n",
    "ax1.set_xticklabels(gender_nobs.index);\n",
    "\n",
    "ax2 = fig.add_subplot(122)\n",
    "ind2 = np.arange(8)\n",
    "colors2 = ['lightsteelblue', 'grey', 'royalblue', 'indigo', 'skyblue', 'slateblue', 'mediumorchid', 'darkcyan']\n",
    "race = ax2.bar(ind2, race_nobs, color=colors2)\n",
    "ax2.set_title('By Race')\n",
    "plt.xticks(rotation=90)\n",
    "ax2.set_xticks(ind2)\n",
    "ax2.set_xticklabels(race_nobs.index)\n",
    "\n",
    "plt.savefig('results/respondent_distribution.png')\n",
    "plt.show();"
   ]
  },
  {
   "cell_type": "code",
   "execution_count": 421,
   "metadata": {},
   "outputs": [
    {
     "data": {
      "image/png": "[encoded data removed]",
      "text/plain": [
       "<matplotlib.figure.Figure at 0x2484e612940>"
      ]
     },
     "metadata": {},
     "output_type": "display_data"
    }
   ],
   "source": [
    "fig2 = plt.figure(figsize=(10,6))\n",
    "fig2.suptitle('Proportion of Respondents who Participate in Backcountry Outdoor Recreation')\n",
    "ax3 = fig2.add_subplot(121)\n",
    "gender2 = ax3.bar(ind, gender_props, color=colors)\n",
    "ax3.set_title('By Gender')\n",
    "plt.xticks(rotation=90)\n",
    "ax3.set_ylabel('Proportion of Respondents')\n",
    "ax3.set_xticks(ind)\n",
    "ax3.set_xticklabels(gender_props.index);\n",
    "\n",
    "ax4 = fig2.add_subplot(122)\n",
    "race2 = ax4.bar(ind2, race_props, color=colors2)\n",
    "ax4.set_title('By Race')\n",
    "plt.xticks(rotation=90)\n",
    "ax4.set_xticks(ind2)\n",
    "ax4.set_xticklabels(race_props.index)\n",
    "plt.savefig('results/participation_in_backcountry_general.png')\n",
    "plt.show;"
   ]
  },
  {
   "cell_type": "code",
   "execution_count": 423,
   "metadata": {},
   "outputs": [
    {
     "data": {
      "image/png": "[encoded data removed]",
      "text/plain": [
       "<matplotlib.figure.Figure at 0x24851a8bc18>"
      ]
     },
     "metadata": {},
     "output_type": "display_data"
    }
   ],
   "source": [
    "ind3 = np.arange(7)\n",
    "width3 = 0.35\n",
    "fig3 = plt.figure(figsize=(10,6))\n",
    "backcountry_ticks = ['Downhill Skiing', \n",
    "                     'Snowshoeing', \n",
    "                     'X-Country Skiing', \n",
    "                     'Mountaineering', \n",
    "                     'Rock Climbing', \n",
    "                     'Backpacking', \n",
    "                     'Hiking']\n",
    "ax5 = fig3.add_subplot(111)\n",
    "male = ax5.bar(ind3, gender_props_all.iloc[0, 0:7], width3, color=colors[0])\n",
    "female = ax5.bar(ind3 + width3, gender_props_all.iloc[1, 0:7], width3, color=colors[1])\n",
    "plt.xticks(rotation=90)\n",
    "ax5.set_title('Proportion of Respondents who Participate in Various Activities')\n",
    "ax5.set_ylabel('Proportion of Respondents')\n",
    "ax5.set_xticks(ind3 + width3 / 2)\n",
    "ax5.set_xticklabels(backcountry_ticks)\n",
    "ax5.legend(gender_props.index)\n",
    "\n",
    "plt.savefig('results/gender_participation_in_backcountry_specific.png')\n",
    "plt.show;"
   ]
  },
  {
   "cell_type": "code",
   "execution_count": 424,
   "metadata": {},
   "outputs": [
    {
     "data": {
      "image/png": "[encoded data removed]",
      "text/plain": [
       "<matplotlib.figure.Figure at 0x2484e6bc080>"
      ]
     },
     "metadata": {},
     "output_type": "display_data"
    }
   ],
   "source": [
    "fig4 = plt.figure(figsize=(10,6))\n",
    "ax6 = fig4.add_subplot(111)\n",
    "ind4 = np.arange(7)\n",
    "width4 = 0.7\n",
    "\n",
    "for i in range(8):\n",
    "    ax6.bar(ind4 - width/2. + i/8*width4, race_props_all.iloc[i, 0:7], \n",
    "            width=width4/8, align=\"edge\", color=colors2[i])   \n",
    "\n",
    "plt.xticks(rotation=90)\n",
    "ax6.set_title('Proportion of Respondents who Participate in Various Activities')\n",
    "ax6.set_ylabel('Proportion of Respondents')\n",
    "ax6.set_xticks(ind4 + width4/7)\n",
    "ax6.set_xticklabels(backcountry_ticks)\n",
    "ax6.legend(race_props_all.index)\n",
    "\n",
    "plt.savefig('results/race_participation_in_backcountry_specific.png')\n",
    "plt.show;"
   ]
  },
  {
   "cell_type": "markdown",
   "metadata": {},
   "source": [
    "## Statistical Analysis"
   ]
  },
  {
   "cell_type": "markdown",
   "metadata": {},
   "source": [
    "downhill skiing (snoact04), snowshoeing (snoact01), x-country skiing (snoact05), mountaineering (climb101), rock climbing(climb102), backpacking (camp103), hiking (hik203)"
   ]
  },
  {
   "cell_type": "markdown",
   "metadata": {},
   "source": [
    "### Gender"
   ]
  },
  {
   "cell_type": "code",
   "execution_count": 311,
   "metadata": {},
   "outputs": [
    {
     "name": "stdout",
     "output_type": "stream",
     "text": [
      "Results of 2-sided hypothesis test for gender: 0.0251\n"
     ]
    }
   ],
   "source": [
    "z_gender, p_gender = ssp.proportions_ztest(gender_counts, gender_nobs)\n",
    "print(\"Results of 2-sided hypothesis test for gender:\", round(p_gender, 4))"
   ]
  },
  {
   "cell_type": "code",
   "execution_count": 247,
   "metadata": {},
   "outputs": [
    {
     "name": "stdout",
     "output_type": "stream",
     "text": [
      "Confidence interval for difference in proportions: 0.005 - 0.075\n"
     ]
    }
   ],
   "source": [
    "# Calculate confidence interval\n",
    "gender_pooled = sum(gender_counts)/sum(gender_nobs)\n",
    "gender_se_prop = np.sqrt(gender_pooled*(1-gender_pooled)*sum(1/gender_nobs))\n",
    "\n",
    "gender_lower = (gender_props[0] - gender_props[1]) - 1.96*gender_se_prop\n",
    "gender_upper = (gender_props[0] - gender_props[1]) + 1.96*gender_se_prop\n",
    "\n",
    "print(\"Confidence interval for difference in proportions:\", round(gender_lower,3), \"-\", round(gender_upper,3))"
   ]
  },
  {
   "cell_type": "markdown",
   "metadata": {},
   "source": [
    "### Race"
   ]
  },
  {
   "cell_type": "code",
   "execution_count": 249,
   "metadata": {},
   "outputs": [
    {
     "name": "stdout",
     "output_type": "stream",
     "text": [
      "Results of hypothesis test for difference between white and Asian : 0.353\n",
      "Results of hypothesis test for difference between white and Hispanic/Latino : 0.086\n",
      "Results of hypothesis test for difference between white and American Indian/Alaska Native : 0.4\n",
      "Results of hypothesis test for difference between white and Black : 0.015\n",
      "Results of hypothesis test for difference between white and Haw/Pac Isl. : 0.788\n",
      "Results of hypothesis test for difference between white and Other : 0.277\n",
      "Results of hypothesis test for difference between white and Two Or More : 0.534\n"
     ]
    }
   ],
   "source": [
    "for i in range(1, 8):   \n",
    "    obs = np.array([[race_counts[0], race_nobs[0]-race_counts[0]], [race_counts[i], race_nobs[i]-race_counts[i]]])\n",
    "    chi2, p, dof, expected = stats.chi2_contingency(obs, correction = True)\n",
    "    print(\"Results of hypothesis test for difference between white and\", race_counts.index[i], \":\", round(p, 3))"
   ]
  },
  {
   "cell_type": "code",
   "execution_count": null,
   "metadata": {},
   "outputs": [],
   "source": [
    "# Calculate confidence interval for difference in proportion between \n",
    "# people who identified as white and those who identified as black\n",
    "pooled = sum(race_counts)/sum(race_nobs)\n",
    "se_prop = np.sqrt(pooled*(1-pooled)*sum(1/race_nobs))\n",
    "\n",
    "lower = (props[0] - props[1]) - 1.96*se_prop\n",
    "upper = (props[0] - props[1]) + 1.96*se_prop\n",
    "\n",
    "print(\"Confidence interval for difference in proportions:\", round(lower,3), \"-\", round(upper,3))"
   ]
  },
  {
   "cell_type": "markdown",
   "metadata": {},
   "source": [
    "## Discussion"
   ]
  },
  {
   "cell_type": "markdown",
   "metadata": {},
   "source": [
    "## Conclusion"
   ]
  },
  {
   "cell_type": "markdown",
   "metadata": {},
   "source": [
    "## References"
   ]
  },
  {
   "cell_type": "code",
   "execution_count": null,
   "metadata": {},
   "outputs": [],
   "source": []
  }
 ],
 "metadata": {
  "kernelspec": {
   "display_name": "Python 3",
   "language": "python",
   "name": "python3"
  },
  "language_info": {
   "codemirror_mode": {
    "name": "ipython",
    "version": 3
   },
   "file_extension": ".py",
   "mimetype": "text/x-python",
   "name": "python",
   "nbconvert_exporter": "python",
   "pygments_lexer": "ipython3",
   "version": "3.6.4"
  }
 },
 "nbformat": 4,
 "nbformat_minor": 2
}
